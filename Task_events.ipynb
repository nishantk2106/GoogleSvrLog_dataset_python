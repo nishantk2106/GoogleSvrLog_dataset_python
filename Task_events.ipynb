{
 "cells": [
  {
   "cell_type": "code",
   "execution_count": 21,
   "metadata": {},
   "outputs": [
    {
     "name": "stdout",
     "output_type": "stream",
     "text": [
      "Total number of jobs failed 277321\n",
      "Total number of job passed 172825\n"
     ]
    },
    {
     "data": {
      "image/png": "[encoded data removed]",
      "text/plain": [
       "<Figure size 432x288 with 1 Axes>"
      ]
     },
     "metadata": {
      "needs_background": "light"
     },
     "output_type": "display_data"
    }
   ],
   "source": [
    "# time column\n",
    "\n",
    "import csv\n",
    "import matplotlib.pylab as plt\n",
    "import numpy as np\n",
    "d=dict()\n",
    "lst=list()\n",
    "job_failed=0\n",
    "job_passed=0\n",
    "with open('Task_Events.csv') as csv_file:\n",
    "    csv_reader = csv.reader(csv_file,delimiter=',')\n",
    "    for row in csv_reader:\n",
    "        p=row[0]\n",
    "        if p not in d:d[p]=1\n",
    "        else:d[p]+=1\n",
    "        if p=='0':job_failed+=1\n",
    "        else:job_passed+=1\n",
    "    print(\"Total number of jobs failed\",job_failed)\n",
    "    print(\"Total number of job passed\",job_passed)\n",
    "    objects = ('failed', 'passed')\n",
    "    y_pos = np.arange(len(objects))\n",
    "    performance = [job_failed,job_passed]\n",
    "\n",
    "    plt.bar(y_pos, performance, align='center', alpha=0.5)\n",
    "    plt.xticks(y_pos, objects)\n",
    "    plt.ylabel('time')\n",
    "    plt.title('Task events Time usage')\n",
    "    \n",
    "    "
   ]
  },
  {
   "cell_type": "markdown",
   "metadata": {},
   "source": [
    "The column 1 of the Task_events file contains time.\n",
    "This column is mandatory field.\n",
    "The format of field is integer."
   ]
  },
  {
   "cell_type": "code",
   "execution_count": 25,
   "metadata": {},
   "outputs": [
    {
     "name": "stdout",
     "output_type": "stream",
     "text": [
      "{'2': 291}\n",
      "Total number of blank columns are : 449855\n"
     ]
    }
   ],
   "source": [
    "# missing info\n",
    "d=dict()\n",
    "blank=0\n",
    "with open('Task_Events.csv') as csv_file:\n",
    "    csv_reader = csv.reader(csv_file,delimiter=',')\n",
    "    for row in csv_reader:\n",
    "        p=row[1]\n",
    "        if p not in '':\n",
    "            \n",
    "            if p not in d:d[p]=1\n",
    "            else:d[p]+=1\n",
    "        else:blank+=1\n",
    "    print(d)\n",
    "    print(\"Total number of blank columns are :\",blank)"
   ]
  },
  {
   "cell_type": "markdown",
   "metadata": {},
   "source": [
    "The column 2 of the Task_events file contains missing info.\n",
    "This column is not mandatory field.\n",
    "The format of field is integer."
   ]
  },
  {
   "cell_type": "code",
   "execution_count": 42,
   "metadata": {},
   "outputs": [
    {
     "name": "stdout",
     "output_type": "stream",
     "text": [
      "[(46037, '6221861800'), (14566, '515042969'), (8968, '6250245734'), (8825, '6225099547'), (8226, '6218406404'), (8192, '5402488769'), (8054, '6238340468'), (7761, '2902878580'), (6918, '6251812952'), (6489, '6251803864')]\n",
      "Total number of unique job_id : 4895\n"
     ]
    }
   ],
   "source": [
    "# job_id column\n",
    "d=dict()\n",
    "lst=list()\n",
    "c=0\n",
    "with open('Task_Events.csv') as csv_file:\n",
    "    csv_reader = csv.reader(csv_file,delimiter=',')\n",
    "    for row in csv_reader:\n",
    "        p=row[2]\n",
    "        if p not in d:d[p]=1\n",
    "        else:d[p]+=1\n",
    "    for key,val in list(d.items()):\n",
    "        lst.append((val,key))\n",
    "        c=c+1\n",
    "    lst.sort(reverse=True)\n",
    "    print(lst[0:10])\n",
    "    print(\"Total number of unique job_id :\",c)\n",
    "        "
   ]
  },
  {
   "cell_type": "markdown",
   "metadata": {},
   "source": [
    "The column 3 of the Task_events file contains job_id.\n",
    "This column is mandatory field.\n",
    "The format of field is integer."
   ]
  },
  {
   "cell_type": "code",
   "execution_count": 47,
   "metadata": {},
   "outputs": [
    {
     "name": "stdout",
     "output_type": "stream",
     "text": [
      "Total number of unique task index:  20010\n"
     ]
    }
   ],
   "source": [
    "# task_index\n",
    "d=dict()\n",
    "c=0\n",
    "with open('Task_Events.csv') as csv_file:\n",
    "    csv_reader = csv.reader(csv_file,delimiter=',')\n",
    "    for row in csv_reader:\n",
    "        p=row[3]\n",
    "        if p not in d:d[p]=1\n",
    "        else:d[p]+=1\n",
    "    for key,val in list(d.items()):\n",
    "        c=c+1\n",
    "    print(\"Total number of unique task index: \",c)\n",
    "    \n"
   ]
  },
  {
   "cell_type": "markdown",
   "metadata": {},
   "source": [
    "The column 4 of the Task_events file contains task_index.\n",
    "This column is mandatory field.\n",
    "The format of field is integer."
   ]
  },
  {
   "cell_type": "code",
   "execution_count": 48,
   "metadata": {},
   "outputs": [
    {
     "name": "stdout",
     "output_type": "stream",
     "text": [
      "Total number of unique machine id are : 12493\n"
     ]
    }
   ],
   "source": [
    "# machine_id\n",
    "d=dict()\n",
    "c=0\n",
    "with open('Task_Events.csv') as csv_file:\n",
    "    csv_reader = csv.reader(csv_file,delimiter=',')\n",
    "    for row in csv_reader:\n",
    "        p=row[4]\n",
    "        if p not in d:d[p]=1\n",
    "        else:d[p]+=1\n",
    "    for key,val in list(d.items()):\n",
    "        c=c+1\n",
    "    print(\"Total number of unique machine id are :\",c)\n",
    "    \n",
    "        \n"
   ]
  },
  {
   "cell_type": "markdown",
   "metadata": {},
   "source": [
    "The column 5 of the Task_events file contains machine_id.\n",
    "This column is not a mandatory field.\n",
    "The format of field is integer."
   ]
  },
  {
   "cell_type": "code",
   "execution_count": 51,
   "metadata": {},
   "outputs": [
    {
     "name": "stdout",
     "output_type": "stream",
     "text": [
      "{'0': 201491, '1': 189994, '4': 43237, '3': 581, '5': 10505, '2': 4338}\n"
     ]
    },
    {
     "data": {
      "image/png": "[encoded data removed]",
      "text/plain": [
       "<Figure size 432x288 with 1 Axes>"
      ]
     },
     "metadata": {
      "needs_background": "light"
     },
     "output_type": "display_data"
    }
   ],
   "source": [
    "# event type \n",
    "import matplotlib.pylab as plt\n",
    "d=dict()\n",
    "c=0\n",
    "with open('Task_Events.csv') as csv_file:\n",
    "    csv_reader = csv.reader(csv_file,delimiter=',')\n",
    "    for row in csv_reader:\n",
    "        p=row[5]\n",
    "        if p not in d:d[p]=1\n",
    "        else:d[p]+=1\n",
    "    print(d)\n",
    "    lst=sorted(d.items())\n",
    "    x,y=zip(*lst)\n",
    "    plt.bar(x,y)\n",
    "    plt.show()"
   ]
  },
  {
   "cell_type": "markdown",
   "metadata": {},
   "source": [
    "The column 6 of the Task_events file contains event_type.\n",
    "This column is a mandatory field.\n",
    "The format of field is integer."
   ]
  },
  {
   "cell_type": "code",
   "execution_count": 54,
   "metadata": {},
   "outputs": [
    {
     "name": "stdout",
     "output_type": "stream",
     "text": [
      "Total number of unique user are : 519\n"
     ]
    }
   ],
   "source": [
    "# user column\n",
    "d=dict()\n",
    "c=0\n",
    "with open('Task_Events.csv') as csv_file:\n",
    "    csv_reader = csv.reader(csv_file,delimiter=',')\n",
    "    for row in csv_reader:\n",
    "        p=row[6]\n",
    "        if p not in d:d[p]=1\n",
    "        else:d[p]+=1\n",
    "    for key,val in list(d.items()):\n",
    "        c=c+1\n",
    "    print(\"Total number of unique user are :\",c)"
   ]
  },
  {
   "cell_type": "markdown",
   "metadata": {},
   "source": [
    "The column 7 of the Task_events file contains user column.\n",
    "This column is a not mandatory field.\n",
    "The format of field is string_hash."
   ]
  },
  {
   "cell_type": "code",
   "execution_count": 56,
   "metadata": {},
   "outputs": [
    {
     "name": "stdout",
     "output_type": "stream",
     "text": [
      "{'3': 56586, '2': 97482, '1': 58109, '0': 237969}\n"
     ]
    },
    {
     "data": {
      "image/png": "[encoded data removed]",
      "text/plain": [
       "<Figure size 432x288 with 1 Axes>"
      ]
     },
     "metadata": {
      "needs_background": "light"
     },
     "output_type": "display_data"
    }
   ],
   "source": [
    "# scheduling class \n",
    "import matplotlib.pylab as plt\n",
    "d=dict()\n",
    "c=0\n",
    "with open('Task_Events.csv') as csv_file:\n",
    "    csv_reader = csv.reader(csv_file,delimiter=',')\n",
    "    for row in csv_reader:\n",
    "        p=row[7]\n",
    "        if p not in d:d[p]=1\n",
    "        else:d[p]+=1\n",
    "    print(d)\n",
    "    lst=sorted(d.items())\n",
    "    x,y=zip(*lst)\n",
    "    plt.bar(x,y)\n",
    "    plt.show()\n"
   ]
  },
  {
   "cell_type": "markdown",
   "metadata": {},
   "source": [
    "The column 8 of the Task_events file contains scheduling class.\n",
    "This column is a not mandatory field.\n",
    "The format of field is integer."
   ]
  },
  {
   "cell_type": "code",
   "execution_count": 59,
   "metadata": {},
   "outputs": [
    {
     "name": "stdout",
     "output_type": "stream",
     "text": [
      "{'9': 99178, '10': 1688, '1': 35733, '0': 119711, '8': 7013, '11': 13087, '2': 173736}\n"
     ]
    },
    {
     "data": {
      "image/png": "[encoded data removed]",
      "text/plain": [
       "<Figure size 432x288 with 1 Axes>"
      ]
     },
     "metadata": {
      "needs_background": "light"
     },
     "output_type": "display_data"
    }
   ],
   "source": [
    "# priority\n",
    "d=dict()\n",
    "c=0\n",
    "with open('Task_Events.csv') as csv_file:\n",
    "    csv_reader = csv.reader(csv_file,delimiter=',')\n",
    "    for row in csv_reader:\n",
    "        p=row[8]\n",
    "        if p not in d:d[p]=1\n",
    "        else:d[p]+=1\n",
    "    print(d)\n",
    "    lst=sorted(d.items())\n",
    "    x,y=zip(*lst)\n",
    "    plt.bar(x,y)\n",
    "    plt.show()"
   ]
  },
  {
   "cell_type": "markdown",
   "metadata": {},
   "source": [
    "The column 9 of the Task_events file contains priority.\n",
    "This column is mandatory field.\n",
    "The format of field is integer."
   ]
  },
  {
   "cell_type": "code",
   "execution_count": 61,
   "metadata": {},
   "outputs": [
    {
     "name": "stdout",
     "output_type": "stream",
     "text": [
      "Total number of blank cpu request : 291\n",
      "{'0.125': 11527, '0.03125': 24262, '0.0625': 75475, '0.1875': 4478, '0.06873': 11994, '0.1382': 2, '0.01562': 15383, '0.01874': 13284, '0.0006247': 9169, '0.04376': 541, '0.1313': 370, '0.0125': 60213, '0.006248': 17893, '0.1244': 6, '0.001875': 46, '0.03748': 1912, '0.2219': 565, '0.1594': 58, '0.1156': 56, '0.1772': 30, '0.04688': 838, '0.09375': 4136, '0.009995': 21, '0.1062': 314, '0.1514': 1435, '0.02499': 120918, '0.006874': 16, '0.004372': 145, '0.1562': 1002, '0.05383': 54, '0.07495': 471, '0.02063': 16, '0.003124': 2708, '0.09998': 1529, '0.04999': 917, '0.0075': 823, '0.09753': 230, '0.1907': 55, '0.03436': 323, '0.002125': 4, '0.001812': 2, '0.001249': 33, '0.004982': 253, '0.05499': 18, '0.02188': 288, '0.03625': 133, '0.05939': 197, '0.001562': 10, '0.05627': 4896, '0.06372': 37, '0.004997': 423, '0.25': 2200, '0.1125': 725, '0.06091': 8, '0.2063': 26, '0.01312': 18, '0.06995': 1, '0': 1533, '0.009369': 5430, '0.1262': 118, '0.01633': 21, '0.04877': 2, '0.04938': 2, '0.0531': 740, '0.05377': 23, '0.1812': 61, '0.1418': 364, '0.02313': 26, '0.06061': 7, '0.1029': 2, '0.4375': 90, '0.1868': 401, '0.0813': 1333, '0.1318': 2, '0.06689': 125, '0.1188': 45, '0.06189': 2589, '0.02374': 5, '0.02563': 13, '0.008743': 14, '0.01813': 6, '0.07874': 6, '0.1182': 6, '0.1482': 6, '0.2832': 6, '0.1943': 6, '0.1294': 47, '0.2437': 12, '0.04437': 20, '0.001625': 4, '0.1282': 1424, '0.03192': 12, '0.1257': 317, '0.02124': 36, '0.08752': 166, '0.3125': 1916, '0.1218': 67, '0.1687': 37, '0.09692': 478, '0.01437': 6, '0.01407': 152, '0.2207': 61, '0.006622': 7, '0.1343': 12, '0.007378': 2, '0.007248': 2, '0.02875': 4, '0.06567': 2006, '0.01938': 987, '0.05878': 72, '0.06628': 101, '0.02814': 4, '0.2188': 357, '0.08435': 1684, '0.08313': 306, '0.08496': 3001, '0.1038': 1081, '0.3394': 644, '0.1694': 27, '0.1094': 18, '0.07629': 340, '0.06885': 66, '0.005623': 5, '0.02625': 4, '0.4062': 5, '0.04529': 36, '0.1699': 28, '0.2251': 4, '0.1843': 46, '0.1626': 486, '0.01062': 323, '0.1287': 10, '0.01688': 32, '0.1438': 3, '0.09436': 4, '0.2': 6, '0.04065': 8238, '0.175': 11, '0.002499': 12, '0.1506': 254, '0.2529': 4, '0.1938': 758, '0.1882': 517, '0.1106': 543, '0.1031': 85, '0.1499': 166, '0.01125': 2, '0.06128': 2, '0.03937': 6, '0.03247': 13, '0.3789': 6, '0.07812': 2166, '0.115': 11, '0.3813': 520, '0.04187': 4, '0.1406': 19, '0.0719': 46, '0.1719': 2, '0.02438': 2, '0.01375': 2, '0.06311': 20, '0.01624': 4, '0.03186': 3, '0.1194': 4, '0.03064': 8824, '0.008118': 2, '0.02249': 10, '0.2312': 2, '0.5': 11, '0.375': 362, '0.2539': 41, '0.06812': 2, '0.4331': 31, '0.1975': 1, '0.02704': 2, '0.03': 218, '0.01268': 18, '0.2505': 420, '0.006767': 4, '0.02542': 256, '0.02539': 512, '0.02841': 2, '0.05109': 887, '0.2407': 200, '0.01094': 123, '0.03607': 15, '0.02295': 103, '0.1792': 129, '0.1807': 120, '0.04626': 3, '0.03589': 63, '0.00885': 2, '0.09448': 10, '0.0275': 20, '0.12': 63, '0.03687': 1, '0.01187': 1, '0.01006': 2, '0.1232': 1, '0.03375': 635, '0.2268': 1, '0.3188': 4, '0.01097': 6, '0.008133': 54, '0.008667': 150, '0.07458': 6, '0.07263': 90, '0.006821': 18, '0.01256': 5, '0.05688': 3, '0.00769': 16, '0.006783': 18, '0.0249': 96, '0.02798': 192, '0.007271': 40, '0.0415': 40, '0.02161': 6, '0.03357': 594, '0.01085': 6, '0.008224': 54, '0.015': 3}\n"
     ]
    }
   ],
   "source": [
    "# cpu request\n",
    "d=dict()\n",
    "blank=0\n",
    "with open('Task_Events.csv') as csv_file:\n",
    "    csv_reader = csv.reader(csv_file,delimiter=',')\n",
    "    for row in csv_reader:\n",
    "        p=row[9]\n",
    "        if p !='':\n",
    "            if p not in d:d[p]=1\n",
    "            else:d[p]+=1\n",
    "        else:blank+=1\n",
    "    print(\"Total number of blank cpu request :\",blank)\n",
    "    print(d)"
   ]
  },
  {
   "cell_type": "markdown",
   "metadata": {},
   "source": [
    "The column 10 of the Task_events file contains cpu request.\n",
    "This column is not a mandatory field.\n",
    "The format of field is float."
   ]
  },
  {
   "cell_type": "code",
   "execution_count": 65,
   "metadata": {},
   "outputs": [
    {
     "name": "stdout",
     "output_type": "stream",
     "text": [
      "Total number of blank data in memory request : 291\n",
      "{'0.07446': 4, '0.08691': 31, '0.09277': 10, '0.09839': 41, '0.09082': 4, '0.09021': 5, '0.09106': 6, '0.09473': 18, '0.09485': 4, '0.0159': 48286, '0.124': 2, '0.08765': 4, '0.08472': 20, '0.02545': 37792, '0.04706': 2, '0.003109': 10986, '0.1041': 2, '0.09778': 282, '0.01398': 933, '0.00795': 761, '0.08618': 28, '0.09155': 4, '0.07764': 19, '0.01553': 17983, '0.04193': 49, '0.09924': 5, '0.09058': 10, '0.01088': 1121, '0.08813': 4, '0.06049': 6, '0.02863': 1081, '0.02332': 296, '0.08923': 4, '0.003181': 156, '0.09546': 1065, '0.01321': 20, '0.01709': 635, '0.01244': 752, '0.5088': 4, '0.04773': 7423, '0.0199': 467, '0.09741': 2, '0.0101': 217, '0.0498': 4, '0.04663': 335, '0.08948': 75, '0.02057': 287, '0.006218': 2952, '0.007767': 10768, '0.0636': 3310, '0.0009327': 32, '0.1113': 74, '0.001554': 1918, '0.002331': 2063, '0.02643': 243, '0.03265': 110, '0.004349': 50, '0.02097': 67, '0.002548': 13, '0.03021': 33, '0.03717': 5, '0.0708': 2, '0.1034': 33, '0.002174': 112, '0.0567': 4, '0.02386': 701, '0.06207': 9, '0.05566': 1701, '0.07056': 145, '0.06677': 856, '0.03107': 887, '0.02176': 110, '0.1013': 10, '0.01932': 2, '0.003975': 1642, '0.05664': 59, '0.0127': 784, '0.02081': 4, '0.1243': 357, '0.009323': 2049, '0.009949': 285, '0.07166': 1491, '0.0007772': 1961, '0.1145': 21, '0.003262': 68, '0.01901': 674, '0.06812': 20, '0.03979': 1279, '0.1272': 1226, '0.0318': 13366, '0.08752': 182, '0.06213': 1631, '0.003883': 9103, '0.03418': 221, '0.01746': 1098, '0.06592': 181, '0.1152': 2, '0.09192': 3, '0.01193': 6893, '0.04816': 25, '0.09937': 97, '0.01825': 594, '0.005814': 2, '0.006493': 37, '0.0006218': 22, '0.01202': 253, '0.006058': 9, '0.02939': 228, '0.0009937': 67, '0.08533': 21, '0.004662': 3186, '0.004814': 6, '0.02069': 9800, '0.05249': 496, '0.08826': 4, '0.01392': 32, '0.108': 4, '0.01724': 13, '0.01166': 68, '0.1166': 2, '0.06995': 10, '0.0835': 3, '0.03802': 24, '0.03339': 71396, '0.04962': 224, '0.1528': 225, '0.1088': 751, '0.008194': 8, '0.03043': 12, '0.2068': 1056, '0.07654': 639, '0.004776': 74, '0.0003881': 50, '0.01173': 41, '0.01476': 144, '0.03259': 254, '0.01865': 999, '0.001942': 5, '0.09326': 146, '0.01477': 21, '0.05627': 18, '0.00544': 1959, '0.02704': 811, '0.009628': 4, '0.06921': 24, '0.001457': 3922, '0.0256': 3892, '0.04559': 5, '0.002487': 5, '0.09692': 356, '0.003723': 20, '0.05511': 4, '0.03882': 116, '0.004318': 8, '0.2019': 4, '0.1049': 214, '0.1199': 2, '0.00634': 28, '0.03009': 291, '0.01605': 2267, '0.04364': 62, '0.1143': 18, '0.08728': 51, '0.001987': 45, '0.02252': 6, '0.04553': 2, '0.1592': 5577, '0.2466': 4, '0.002953': 418, '0.001865': 354, '0.01569': 36, '0.01981': 1934, '0.01941': 27, '0.05646': 112, '0.01151': 34, '0.001165': 7, '0.1127': 6, '0.003418': 9, '0.04376': 64, '0.003731': 157, '0.1318': 6, '0.1384': 6, '0.1345': 21, '0.135': 15, '0.1348': 19, '0.1453': 6, '0.1624': 6, '0.1482': 6, '0.1392': 12, '0.1401': 6, '0.1497': 6, '0.1465': 204, '0.1326': 16, '0.1375': 11, '0.06128': 43, '0.006363': 78, '0.004509': 21, '0.04443': 38, '0.008392': 107, '0.002254': 2, '0.00444': 11, '0.0005436': 2, '0.0008545': 48, '0.01466': 280, '0.01103': 817, '0.03186': 26, '0.06763': 11, '0.02478': 5, '0.1304': 95, '0.09851': 448, '0.01749': 205, '0.02609': 10, '0.05878': 1746, '0.002796': 467, '0.01271': 317, '0.1057': 2, '0.1233': 101, '0.03278': 102, '0.01442': 3, '0.07507': 84, '0.07312': 44, '0.05316': 6143, '0.009293': 4, '0.004974': 1029, '0.03198': 2201, '0.01292': 2, '0': 57, '0.06384': 192, '0.07141': 609, '0.05408': 61, '0.03723': 235, '0.05676': 72, '0.02228': 27, '0.02368': 21, '0.03497': 13, '0.001591': 4, '0.0191': 250, '0.03174': 59, '0.0202': 2469, '0.02457': 253, '0.1194': 144, '0.06335': 1355, '0.06458': 4, '0.008881': 2, '0.00412': 7, '0.0365': 121, '0.02451': 87, '0.008545': 332, '0.6367': 10, '0.006958': 30, '0.05438': 212, '0.2327': 1060, '0.08911': 169, '0.01715': 60, '0.00798': 6, '0.05579': 43, '0.02145': 131, '0.02719': 11, '0.0484': 3, '0.02487': 23, '0.02304': 2, '0.01529': 2, '0.0517': 7, '0.01855': 4, '0.08582': 380, '0.04974': 199, '0.07642': 10208, '0.03821': 4847, '0.02292': 1003, '0.03583': 5, '0.04456': 257, '0.1541': 1314, '0.1909': 25, '0.1748': 341, '0.3501': 5, '0.08032': 29, '0.05084': 255, '0.1002': 49, '0.02911': 6, '0.05957': 19, '0.0188': 20, '0.05707': 351, '0.005905': 12, '0.01822': 46, '0.01788': 2, '0.009796': 935, '0.02301': 334, '0.08545': 33, '0.03516': 388, '0.04041': 40, '0.008453': 33, '0.08569': 6264, '0.1584': 28, '0.0589': 28, '0.05688': 2, '0.1433': 4, '0.1097': 4, '0.02271': 28, '0.07959': 12011, '0.05518': 30, '0.05292': 9, '0.01355': 46, '0.01041': 100, '0.05005': 63, '0.05286': 149, '0.005745': 42, '0.0946': 46, '0.04352': 33, '0.04535': 190, '0.06201': 133, '0.006989': 206, '0.03571': 49, '0.03113': 112, '0.05444': 50, '0.01106': 43, '0.06909': 55, '0.1296': 7, '0.02594': 58, '0.01691': 2, '0.04614': 122, '0.02219': 656, '0.03491': 21, '0.1399': 785, '0.07935': 5, '0.0575': 16, '0.0896': 335, '0.004196': 37, '0.0278': 29, '0.2568': 3, '0.04791': 226, '0.1772': 2, '0.2227': 10, '0.02795': 5935, '0.07117': 2, '0.01125': 77, '0.01895': 16, '0.003479': 6, '0.006836': 2913, '0.1543': 6, '0.01241': 27, '0.1672': 40, '0.01273': 2, '0.09412': 380, '0.1036': 6, '0.06372': 66, '0.2163': 560, '0.0509': 63, '0.0376': 8, '0.015': 92, '0.08276': 4, '0.0001554': 534, '0.3818': 12, '0.1511': 2, '0.05902': 695, '0.09363': 2, '0.06531': 6, '0.00272': 52, '0.2004': 517, '0.03223': 170, '0.1997': 265, '0.08984': 22, '0.002388': 4, '0.02567': 1, '0.009521': 21, '0.01926': 21, '0.2544': 10, '0.02371': 4, '0.001398': 2, '0.06036': 82, '0.06836': 92, '0.03662': 5, '0.02774': 21, '0.008209': 2, '0.04572': 2, '0.0107': 18, '0.1289': 66, '0.07422': 2, '0.01234': 21, '0.07739': 2, '0.01416': 74, '0.009552': 4, '0.003231': 2, '0.04132': 40, '0.1018': 1, '0.06433': 30, '0.008514': 23, '0.03577': 5, '0.01414': 2, '0.002022': 36, '0.001709': 2, '0.05524': 24, '0.1228': 32, '0.1829': 4, '0.08228': 290, '0.002857': 284, '0.01042': 11, '0.04926': 41, '0.05804': 16, '0.1301': 6, '0.1309': 11, '0.01433': 14, '0.02011': 34, '0.08154': 2, '0.02042': 2, '0.007301': 246, '0.06061': 395, '0.1279': 4, '0.2395': 2, '0.03815': 168, '0.01425': 4, '1.526e-05': 7, '0.03833': 4, '0.01268': 6, '0.04272': 4, '0.01276': 32, '0.1323': 993, '0.02853': 2, '0.9551': 5, '0.01114': 3, '0.1553': 12, '0.02136': 2, '0.3296': 24, '0.09619': 2, '0.134': 4, '0.1343': 276, '0.1316': 1, '0.1313': 14, '0.1328': 13, '0.1357': 7, '0.5098': 2, '0.2234': 2, '0.3828': 2, '0.0228': 17, '0.02698': 200, '0.2388': 8, '0.001802': 93, '0.02783': 6, '0.05969': 259, '0.002983': 32, '0.03253': 124, '0.0003109': 6, '0.1865': 2, '0.101': 2, '0.01012': 470, '0.003899': 26, '0.01253': 8, '0.003036': 34, '0.006485': 6, '0.007347': 6, '0.009079': 4, '0.0108': 4, '0.01596': 2, '0.001244': 8, '0.03729': 10, '0.01399': 4, '0.003887': 3945, '0.003494': 4, '0.02213': 13, '0.05591': 2, '0.01427': 3, '0.1111': 6, '0.01492': 3, '0.0007458': 2, '0.01265': 60, '0.1536': 8, '0.1174': 725, '0.03424': 124, '0.04932': 9, '0.05011': 2, '0.02435': 104, '0.1387': 580, '0.01907': 2, '0.009506': 2, '0.005409': 2, '0.008698': 4, '0.0246': 2, '0.003361': 408, '0.05585': 19, '0.02945': 6, '0.007256': 7, '0.1631': 6, '0.1484': 6, '0.004295': 6, '0.4297': 309, '0.1372': 4, '0.1176': 19, '0.0181': 11, '0.004601': 2, '0.004379': 2, '0.004364': 2, '0.004333': 2, '0.004494': 2, '0.00457': 2, '0.004631': 2, '0.004456': 2, '0.004425': 4, '0.004555': 4, '0.2637': 43, '0.09229': 750, '0.07556': 569, '0.08435': 14, '0.09705': 104, '0.004143': 552, '0.175': 240, '0.1489': 33, '0.04266': 2, '0.1072': 28, '0.01938': 15, '0.02142': 11, '0.01143': 6, '0.01572': 7, '0.03122': 6, '0.0128': 2, '0.01328': 8, '0.02679': 2, '0.01044': 7, '0.009689': 3, '0.007462': 11, '0.01218': 18, '0.01401': 13, '0.0163': 2, '0.01317': 8820, '0.1506': 9, '0.156': 8, '0.004044': 8, '0.009827': 4, '0.1616': 4, '0.00502': 100, '0.03918': 7, '0.1115': 178, '0.07703': 84, '0.006104': 2095, '0.04138': 30, '0.09399': 31, '0.04218': 8, '0.03961': 8009, '0.144': 1, '0.02377': 40, '0.02646': 41, '0.003399': 404, '0.001087': 2, '0.01639': 2, '0.008621': 40, '0.00766': 218, '0.005486': 95, '0.06506': 2, '0.007393': 56, '0.005783': 256, '0.1184': 8968, '0.03906': 887, '0.08594': 24, '0.08606': 17, '0.08374': 8, '0.0874': 8, '0.09094': 8, '0.08862': 9, '0.08667': 17, '0.08801': 16, '0.08789': 8, '0.0885': 10, '0.08301': 24, '0.08496': 17, '0.08521': 8, '0.08459': 25, '0.08643': 16, '0.08215': 8, '0.08716': 8, '0.09009': 8, '0.08704': 8, '0.08325': 8, '0.0863': 24, '0.08447': 16, '0.08557': 8, '0.09534': 8, '0.08838': 8, '0.08398': 8, '0.08411': 8, '0.08362': 8, '0.01169': 15, '0.002563': 3, '0.02686': 103, '0.07874': 129, '0.06183': 120, '0.0481': 63, '0.005219': 3, '0.1224': 5, '0.1024': 2, '0.09204': 2, '0.1207': 2, '0.08386': 2, '0.05426': 2, '0.01009': 20, '0.001631': 1, '0.0343': 10, '0.05908': 1, '0.0139': 3, '0.003651': 2, '0.1516': 1, '0.02222': 35, '0.03394': 60, '0.02463': 1, '0.02518': 48, '0.007614': 1, '0.02509': 97, '0.007965': 1, '0.01718': 1, '0.01025': 3, '0.007629': 2, '0.1758': 1, '0.1335': 20, '0.1355': 3, '0.1321': 12, '0.1331': 6, '0.1333': 3, '0.1306': 6, '0.1353': 9, '0.1294': 3, '0.1379': 3, '0.1338': 3, '0.136': 3, '0.1311': 3, '0.04211': 6, '0.1382': 3, '0.1458': 3, '0.1396': 3, '0.1494': 3, '0.2249': 266, '0.02173': 3, '0.1171': 170, '0.02655': 25, '0.03229': 15, '0.0307': 3, '0.03894': 5, '0.00264': 203, '0.01277': 18, '0.01048': 1782, '0.005875': 39, '0.002518': 42, '0.001972': 126, '0.002098': 81, '0.003746': 150, '0.002239': 6, '0.006042': 33, '0.002594': 42, '0.00275': 132, '0.004784': 21, '0.002052': 54, '6.199e-05': 9, '0.03528': 3, '0.02258': 3, '0.01514': 150, '0.006248': 33, '0.002068': 621, '0.006416': 33, '0.01263': 318, '0.006462': 33, '0.01224': 6, '0.0119': 3150, '0.02188': 3, '0.004478': 18, '0.002083': 66, '0.002937': 1194, '0.01282': 6, '0.01047': 594, '0.01199': 25, '0.004738': 21, '0.004898': 21, '0.007164': 20, '0.002037': 15, '0.006401': 33, '0.01358': 210, '0.006447': 22, '0.002827': 35}\n"
     ]
    }
   ],
   "source": [
    "# memory request\n",
    "d=dict()\n",
    "b=0\n",
    "with open('Task_Events.csv') as csv_file:\n",
    "    csv_reader = csv.reader(csv_file,delimiter=',')\n",
    "    for row in csv_reader:\n",
    "        p=row[10]\n",
    "        if p!='':\n",
    "            if p not in d:d[p]=1\n",
    "            else:d[p]+=1\n",
    "        else:b+=1\n",
    "    print(\"Total number of blank data in memory request :\",b)\n",
    "    print(d)\n"
   ]
  },
  {
   "cell_type": "markdown",
   "metadata": {},
   "source": [
    "The column 11 of the Task_events file contains memory request.\n",
    "This column is not a mandatory field.\n",
    "The format of field is float."
   ]
  },
  {
   "cell_type": "code",
   "execution_count": 69,
   "metadata": {},
   "outputs": [
    {
     "name": "stdout",
     "output_type": "stream",
     "text": [
      "Total number of blank data in memory request : 291\n",
      "{'0.0004244': 8, '0.0004549': 352, '0.000494': 18, '0.0008612': 41, '0.0004702': 42, '0.0008211': 9, '0.0008287': 81, '7.057e-05': 10, '0.0005445': 12, '0.0004625': 194, '0.0002317': 396, '0.0001545': 2136, '3.815e-05': 29789, '0.0001926': 16192, '0.0005016': 201, '0.0006723': 175, '1.144e-05': 1941, '0.000432': 8, '0.001049': 5, '0.000309': 1298, '1.907e-06': 322, '9.918e-05': 9, '2.289e-05': 893, '0.0003862': 140948, '1.907e-05': 17584, '0.0003166': 228, '7.725e-05': 7107, '0.0001392': 171, '4.196e-05': 3957, '3.242e-05': 25, '2.67e-05': 8870, '3.815e-06': 2255, '0.0001059': 65, '0.0002155': 14579, '8.202e-05': 30, '9.537e-06': 2046, '0.000247': 25, '0.0002394': 5, '0.0002699': 4787, '2.003e-05': 10, '2.098e-05': 8257, '7.629e-06': 3443, '8.583e-06': 146, '0.0004015': 146, '0.0008221': 205, '5.054e-05': 116, '0.0003471': 93, '0.001242': 784, '0.0001154': 7909, '0.0008059': 168, '3.433e-05': 1056, '0.0002747': 66, '0.003395': 720, '0.0004807': 33, '0.0004921': 2, '0.0004864': 3, '1.526e-05': 3564, '4.768e-06': 1642, '4.864e-05': 160, '0.0002918': 25, '0.0004787': 46, '0.0002537': 11, '0.0002222': 2, '0.0001831': 253, '0.0001745': 24, '0.001467': 17, '0.0009651': 307, '3.052e-05': 1702, '0.0001602': 63, '0.0001001': 70, '8.106e-05': 16, '0.000248': 8, '0.0008135': 4, '0.0002546': 32, '0.000123': 8, '0.0001774': 15, '0.000948': 5, '0.0003033': 19, '6.104e-05': 21, '0.0004129': 443, '0.001165': 64, '0.0009604': 41, '0.002319': 115, '0.0003214': 124, '0.0001564': 30, '0.001152': 18, '0.0002832': 150, '0.002506': 24, '6.962e-05': 6764, '0.0002928': 5, '0.0001106': 63, '7.534e-05': 777, '6.39e-05': 11, '0.0007315': 4, '0': 1525, '0.0005054': 358, '0.0001755': 369, '0.0001507': 10, '0.0009108': 3, '5.245e-05': 456, '0.0008593': 8, '0.0006485': 214, '0.003094': 9, '0.001064': 2, '8.392e-05': 28, '5.817e-05': 4591, '0.0009146': 102, '7.82e-05': 9, '0.0006752': 45, '0.0008249': 18, '0.0003662': 76, '0.002266': 15, '0.0004196': 84, '9.251e-05': 445, '5.722e-06': 80, '0.0001612': 16, '9.632e-05': 4793, '0.0003014': 6, '0.0008106': 196, '5.627e-05': 415, '0.0005035': 127, '5.722e-05': 1709, '0.0006599': 14, '3.624e-05': 52, '0.0003376': 6, '0.0003281': 1890, '0.000329': 12, '0.0003538': 288, '0.0003958': 6, '0.0003614': 6, '0.0003395': 18, '0.0003414': 6, '0.0003653': 6, '0.0003576': 9, '0.0003233': 6, '0.0003347': 16, '0.0005093': 43, '0.0005512': 38, '4.387e-05': 434, '0.0003834': 280, '4.482e-05': 1186, '0.0001974': 24, '0.0001736': 3138, '0.000946': 5, '2.861e-05': 3275, '0.0004358': 13, '0.0009499': 1696, '0.0001183': 794, '0.0006561': 124, '0.0003624': 102, '0.0001097': 7, '0.002121': 50, '0.0001135': 35, '5.341e-05': 47, '0.000308': 6198, '4.005e-05': 8, '0.000617': 19, '4.578e-05': 573, '0.0002575': 7, '0.0001068': 124, '0.002911': 34, '0.00193': 1026, '0.001249': 6, '0.0007963': 21, '0.002029': 61, '0.0001402': 235, '0.0008917': 3, '0.0008307': 8, '0.0001278': 113, '4.292e-05': 36, '9.441e-05': 259, '0.0006018': 336, '4.673e-05': 52, '0.0007706': 10, '8.678e-05': 15, '0.0006552': 2, '0.0002375': 188, '0.006859': 5, '0.0007715': 106, '0.0002403': 4, '0.0005636': 4, '0.000926': 6289, '0.0002508': 133, '0.0004282': 332, '0.0008984': 69, '0.0006456': 5, '0.0001888': 22, '9.06e-05': 1201, '0.0006104': 1060, '9.823e-05': 78, '0.000351': 136, '0.0005684': 3, '0.0004635': 31, '0.0001268': 43, '0.0001535': 40, '0.0002651': 113, '0.0003109': 104, '0.0003176': 11, '0.0003567': 87, '7.439e-05': 33, '1.812e-05': 2, '0.0005608': 5, '0.0003309': 347, '0.0003071': 159, '1.717e-05': 69, '0.001087': 189, '0.0008488': 1318, '0.0007792': 1314, '0.0006065': 24, '1.621e-05': 3, '0.005791': 5, '0.0003939': 41, '0.0008459': 41, '0.0002642': 3, '0.001694': 19, '0.0006075': 3, '0.00132': 2, '0.0005722': 36, '0.000845': 47, '0.0008478': 13, '0.0003729': 112, '8.297e-05': 32, '7.915e-05': 178, '0.0007954': 12, '6.485e-05': 21, '0.0007029': 747, '0.0002432': 337, '0.001272': 387, '0.001577': 511, '0.0004349': 37, '0.001158': 14005, '0.0009251': 338, '0.000185': 34, '0.0007153': 3, '0.0007238': 142, '0.00621': 63, '0.0004473': 139, '0.0003328': 438, '0.0002079': 56, '0.0002251': 186, '0.0001936': 19, '0.0003262': 14, '0.0004206': 10, '0.0001688': 21, '0.0009117': 112, '0.002213': 6, '0.0008993': 6, '9.155e-05': 507, '0.0007267': 50, '0.007736': 54, '0.0003157': 51, '0.0009375': 7, '0.000144': 68, '6.676e-05': 13, '0.001625': 11, '0.0007944': 5, '0.0004292': 10, '0.000268': 9, '0.0006847': 3, '9.537e-07': 1925, '0.0002356': 4, '0.0001879': 18, '8.774e-05': 5, '0.000761': 3, '7.343e-05': 9, '0.0001163': 216, '0.0004749': 7, '1.24e-05': 59, '0.0005884': 292, '0.0004139': 25, '0.0008402': 9, '0.001095': 6, '0.0002232': 211, '0.0007877': 8, '0.0003901': 40, '0.0002117': 18, '0.0005665': 382, '0.0002813': 15, '0.0002623': 72, '0.0002108': 202, '0.001015': 66, '3.529e-05': 483, '0.0005064': 560, '0.000474': 3, '7.248e-05': 4, '0.0006475': 252, '0.0005789': 1760, '0.0001554': 8937, '2.861e-06': 26, '0.0003061': 182, '0.0001335': 517, '0.0001945': 146, '0.00246': 265, '0.0001802': 37, '0.0001984': 508, '0.0001345': 145, '0.0003223': 208, '0.000638': 92, '0.0003242': 3, '0.001076': 8, '0.0001621': 877, '0.000124': 5, '0.0008678': 5, '0.00972': 9, '0.0002489': 7, '0.000102': 6, '0.001514': 2, '3.91e-05': 10, '0.0003386': 5, '0.0002127': 131, '0.0002165': 2, '0.0005674': 94, '0.0001574': 24, '0.0002632': 7, '0.00153': 284, '0.0002451': 3, '0.0004902': 6, '0.001215': 3, '6.58e-05': 41, '1.335e-05': 404, '0.000968': 43, '0.001362': 3, '0.0003519': 8, '0.0009298': 4, '0.000495': 263, '0.0001993': 395, '0.0001307': 254, '0.0007725': 8, '0.0006933': 18, '0.0006247': 150, '0.001234': 64, '4.101e-05': 134, '0.001083': 13, '0.0001125': 9, '0.0003405': 10, '0.0003767': 1616, '0.0001078': 22, '0.0004044': 49460, '0.0001907': 32, '0.0004034': 11, '8.011e-05': 6, '0.000267': 2, '0.0007915': 4, '0.0001478': 10, '0.0001726': 2, '0.0002851': 9, '0.0009632': 5, '0.005829': 1, '7.153e-05': 38, '0.0004082': 5, '0.0004005': 8, '2.48e-05': 2, '0.0006542': 64, '0.0008078': 1, '0.0008717': 355, '0.0001869': 2, '5.913e-05': 45, '0.001005': 119, '0.0001354': 22, '0.0004559': 2, '6.008e-05': 2, '0.000371': 6, '0.0007906': 13, '2.193e-05': 6, '2.575e-05': 2, '2.956e-05': 4, '0.0001431': 575, '6.771e-05': 83, '0.0003433': 5, '0.0004539': 9, '0.0002069': 2, '1.431e-05': 12, '0.001791': 462, '0.0002584': 5, '0.0004997': 6, '0.0009079': 2, '0.0006227': 433, '0.0001764': 9, '0.0006466': 124, '0.001829': 19, '5.531e-05': 501, '0.0005474': 104, '0.0004396': 4, '1.049e-05': 47, '0.0005407': 19, '9.537e-05': 7, '0.000536': 5, '0.0003443': 6, '0.0009975': 107, '0.0004025': 21, '0.0003681': 6, '0.0006418': 355, '0.007042': 309, '0.002876': 1026, '0.0003633': 198, '0.001169': 206, '0.0002823': 504, '0.0004187': 19, '0.0002213': 47, '0.0003929': 2, '0.0003319': 38, '0.0005398': 2, '0.0003643': 48, '0.0002413': 89, '0.0006943': 6, '0.0005379': 1, '0.0007887': 7, '0.0001383': 7, '0.0009727': 4, '0.0006313': 2, '0.0001116': 17, '0.0006609': 10, '0.0001898': 8, '0.0001364': 7, '2.384e-05': 2, '0.001057': 9, '0.0001011': 6, '8.965e-05': 4, '0.0006895': 4, '0.0002766': 5, '0.0005941': 52, '0.0005026': 41, '0.001419': 84, '0.0004225': 64, '0.0009937': 1, '0.001358': 698, '0.0003557': 31, '0.0002031': 1, '0.0004053': 194, '0.0002041': 40, '0.0002737': 41, '0.0004215': 2, '0.0001202': 24, '0.0002708': 120, '0.002316': 105, '5.436e-05': 336, '0.000452': 1589, '0.0007133': 20, '0.0009098': 1, '0.00194': 40, '0.0007782': 1, '0.0003853': 1, '0.003105': 48, '0.0005732': 18, '0.0005798': 1, '0.0004063': 9, '0.0003967': 6, '0.0003986': 12, '0.000412': 12, '0.0004101': 15, '0.0003977': 3, '0.0004072': 9, '0.0003948': 3, '0.000411': 3, '0.0004091': 3, '0.0003996': 3, '0.0003195': 5, '0.0006981': 6, '0.0004568': 1, '0.0003605': 3, '0.0003462': 3, '0.00037': 3, '0.0002184': 2, '0.0001326': 5, '0.0003366': 5, '0.0002012': 5, '0.0003881': 172, '0.00123': 1, '0.000103': 3}\n"
     ]
    }
   ],
   "source": [
    "# disk space request\n",
    "d=dict()\n",
    "b=0\n",
    "with open('Task_Events.csv') as csv_file:\n",
    "    csv_reader = csv.reader(csv_file,delimiter=',')\n",
    "    for row in csv_reader:\n",
    "        p=row[11]\n",
    "        if p!='':\n",
    "            if p not in d:d[p]=1\n",
    "            else:d[p]+=1\n",
    "        else:b+=1\n",
    "    print(\"Total number of blank data in disk space request :\",b)\n",
    "    print(d)\n"
   ]
  },
  {
   "cell_type": "markdown",
   "metadata": {},
   "source": [
    "The column 12 of the Task_events file contains disck space request.\n",
    "This column is not a mandatory field.\n",
    "The format of field is float.\n"
   ]
  },
  {
   "cell_type": "code",
   "execution_count": 71,
   "metadata": {},
   "outputs": [
    {
     "name": "stdout",
     "output_type": "stream",
     "text": [
      "Total number of blank data in disk space request : 291\n",
      "{'0': 263086, '1': 186769}\n"
     ]
    },
    {
     "data": {
      "image/png": "[encoded data removed]",
      "text/plain": [
       "<Figure size 432x288 with 1 Axes>"
      ]
     },
     "metadata": {
      "needs_background": "light"
     },
     "output_type": "display_data"
    }
   ],
   "source": [
    "# different machine restriction \n",
    "d=dict()\n",
    "b=0\n",
    "with open('Task_Events.csv') as csv_file:\n",
    "    csv_reader = csv.reader(csv_file,delimiter=',')\n",
    "    for row in csv_reader:\n",
    "        p=row[12]\n",
    "        if p!='':\n",
    "            if p not in d:d[p]=1\n",
    "            else:d[p]+=1\n",
    "        else:b+=1\n",
    "    print(\"Total number of blank data in disk space request :\",b)\n",
    "    print(d)\n",
    "    lst=sorted(d.items())\n",
    "    x,y=zip(*lst)\n",
    "    plt.bar(x,y)\n",
    "    plt.show()"
   ]
  },
  {
   "cell_type": "markdown",
   "metadata": {},
   "source": [
    "The column 12 of the Task_events file contains different machine restriction.\n",
    "This column is not a mandatory field.\n",
    "The format of field is boolean."
   ]
  }
 ],
 "metadata": {
  "kernelspec": {
   "display_name": "Python 3",
   "language": "python",
   "name": "python3"
  },
  "language_info": {
   "codemirror_mode": {
    "name": "ipython",
    "version": 3
   },
   "file_extension": ".py",
   "mimetype": "text/x-python",
   "name": "python",
   "nbconvert_exporter": "python",
   "pygments_lexer": "ipython3",
   "version": "3.7.6"
  }
 },
 "nbformat": 4,
 "nbformat_minor": 4
}
