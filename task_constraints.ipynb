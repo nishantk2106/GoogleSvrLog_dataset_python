{
 "cells": [
  {
   "cell_type": "markdown",
   "metadata": {},
   "source": [
    "## Finding the total number of enteries in the table "
   ]
  },
  {
   "cell_type": "code",
   "execution_count": 2,
   "metadata": {},
   "outputs": [
    {
     "name": "stdout",
     "output_type": "stream",
     "text": [
      "28485619\n"
     ]
    }
   ],
   "source": [
    "import gzip\n",
    "count=0\n",
    "for i in range(0,500):\n",
    "    num=str(i)\n",
    "    zero_fill_num=num.zfill(5)\n",
    "    with gzip.open('/ichec/work/mucom001c/GoogleSvrLog/clusterdata-2011-1/task_constraints/part-'+zero_fill_num+'-of-00500.csv.gz', 'rb') as f:\n",
    "        for line in f:\n",
    "            line=line.decode()\n",
    "            line=line.split(',')\n",
    "            t=line[0]\n",
    "            count+=1\n",
    "print(count)"
   ]
  },
  {
   "cell_type": "markdown",
   "metadata": {},
   "source": [
    "# Observations:\n",
    "Total number of enteries in the dataset :28485619\n",
    "\n",
    "Average entry per file :56,971\n",
    "\n",
    "Data attributes in the file :6\n"
   ]
  },
  {
   "cell_type": "markdown",
   "metadata": {},
   "source": [
    "## Finding the size of the zipped file "
   ]
  },
  {
   "cell_type": "code",
   "execution_count": 3,
   "metadata": {},
   "outputs": [
    {
     "name": "stdout",
     "output_type": "stream",
     "text": [
      "154481958\n"
     ]
    }
   ],
   "source": [
    "import gzip\n",
    "from pathlib import Path\n",
    "size=0\n",
    "for i in range(0,500):\n",
    "    num=str(i)\n",
    "    zero_fill_num=num.zfill(5)\n",
    "    size+=Path('/ichec/work/mucom001c/GoogleSvrLog/clusterdata-2011-1/task_constraints/part-'+zero_fill_num+'-of-00500.csv.gz').stat().st_size\n",
    "print(size)"
   ]
  },
  {
   "cell_type": "markdown",
   "metadata": {},
   "source": [
    "Total file size of the Zipped file :154481958 Byte or 154.481958 MB"
   ]
  },
  {
   "cell_type": "markdown",
   "metadata": {},
   "source": [
    "## Plotting the count of task in each date of the month :"
   ]
  },
  {
   "cell_type": "code",
   "execution_count": 3,
   "metadata": {},
   "outputs": [
    {
     "name": "stdout",
     "output_type": "stream",
     "text": [
      "{'09': 947111, '21': 959815, '10': 884614, '26': 924838, '15': 900065, '31': 589731, '29': 917197, '23': 938942, '25': 900117, '18': 924161, '07': 938828, '17': 955350, '19': 941587, '13': 917497, '03': 915989, '28': 934954, '30': 841377, '27': 903866, '05': 950488, '08': 898236, '14': 942055, '20': 978468, '12': 935334, '11': 884440, '01': 1060161, '04': 974120, '06': 908460, '16': 923647, '24': 913261, '02': 947335, '22': 933575}\n"
     ]
    },
    {
     "data": {
      "image/png": "[encoded data removed]",
      "text/plain": [
       "<Figure size 720x576 with 1 Axes>"
      ]
     },
     "metadata": {
      "needs_background": "light"
     },
     "output_type": "display_data"
    }
   ],
   "source": [
    "from matplotlib import pyplot as plt\n",
    "from datetime import datetime\n",
    "d=dict()\n",
    "for i in range(0,500):\n",
    "    num=str(i)\n",
    "    zero_fill_num=num.zfill(5)\n",
    "    with gzip.open('/ichec/work/mucom001c/GoogleSvrLog/clusterdata-2011-1/task_constraints/part-'+zero_fill_num+'-of-00500.csv.gz', 'rb') as f:\n",
    "        for line in f:\n",
    "            line=line.decode()\n",
    "            line=line.split(',')\n",
    "            t=int(line[0])/1000\n",
    "            date_time = datetime.fromtimestamp(t)\n",
    "            d1=date_time.strftime(\"%d\")\n",
    "            if d1 not in d:d[d1]=1\n",
    "            else:\n",
    "                 d[d1]+=1 \n",
    "print(d)\n",
    "lists = sorted(d.items()) # sorted by key, return a list of tuples\n",
    "x, y = zip(*lists) # unpack a list of pairs into two tuples\n",
    "plt.figure(figsize=(10,8))\n",
    "plt.xlabel('Time as Date ')\n",
    "plt.ylabel('Count')\n",
    "plt.title('Plot for Time  Vs Count')\n",
    "plt.scatter(x, y)\n",
    "plt.show()\n"
   ]
  },
  {
   "cell_type": "markdown",
   "metadata": {},
   "source": [
    "## Job_id column for task_constraints to get unique job_id in the dataset"
   ]
  },
  {
   "cell_type": "code",
   "execution_count": 2,
   "metadata": {},
   "outputs": [
    {
     "name": "stdout",
     "output_type": "stream",
     "text": [
      "55272\n"
     ]
    }
   ],
   "source": [
    "import gzip\n",
    "count=0\n",
    "d=dict()\n",
    "for i in range(0,500):\n",
    "    num=str(i)\n",
    "    zero_fill_num=num.zfill(5)\n",
    "    with gzip.open('/ichec/work/mucom001c/GoogleSvrLog/clusterdata-2011-1/task_constraints/part-'+zero_fill_num+'-of-00500.csv.gz', 'rb') as f:\n",
    "        for line in f:\n",
    "            line=line.decode()\n",
    "            line=line.split(',')\n",
    "            t=line[1]\n",
    "            if t not in d:\n",
    "                d[t]=1\n",
    "                count+=1\n",
    "            else:\n",
    "                d[t]+=1\n",
    "print(count)\n",
    "            "
   ]
  },
  {
   "cell_type": "markdown",
   "metadata": {},
   "source": [
    "Total number of unique job_id associated in the dataset are 55272"
   ]
  },
  {
   "cell_type": "markdown",
   "metadata": {},
   "source": [
    "## Analysis of the task_index column of the dataset "
   ]
  },
  {
   "cell_type": "code",
   "execution_count": 6,
   "metadata": {},
   "outputs": [
    {
     "name": "stdout",
     "output_type": "stream",
     "text": [
      "9237\n"
     ]
    }
   ],
   "source": [
    "import gzip\n",
    "d=dict()\n",
    "count=0\n",
    "for i in range(0,500):\n",
    "    num=str(i)\n",
    "    zero_fill_num=num.zfill(5)\n",
    "    with gzip.open('/ichec/work/mucom001c/GoogleSvrLog/clusterdata-2011-1/task_constraints/part-'+zero_fill_num+'-of-00500.csv.gz', 'rb') as f:\n",
    "        for line in f:\n",
    "            line=line.decode()\n",
    "            line=line.split(',')\n",
    "            t=line[2]\n",
    "            if t not in d:\n",
    "                d[t]=1\n",
    "                count+=1\n",
    "            else:\n",
    "                d[t]+=1\n",
    "print(count)"
   ]
  },
  {
   "cell_type": "markdown",
   "metadata": {},
   "source": [
    "Total number of unique task index column is 9237"
   ]
  },
  {
   "cell_type": "markdown",
   "metadata": {},
   "source": [
    "## Analysis of the comparision_operator column of the dataset"
   ]
  },
  {
   "cell_type": "code",
   "execution_count": 17,
   "metadata": {},
   "outputs": [
    {
     "name": "stdout",
     "output_type": "stream",
     "text": [
      "{'2': 16698, '3': 1694562, '0': 3283738, '1': 23490621}\n"
     ]
    },
    {
     "data": {
      "image/png": "[encoded data removed]",
      "text/plain": [
       "<Figure size 432x288 with 1 Axes>"
      ]
     },
     "metadata": {
      "needs_background": "light"
     },
     "output_type": "display_data"
    }
   ],
   "source": [
    "import gzip\n",
    "from matplotlib import pyplot as plt\n",
    "d=dict()\n",
    "for i in range(0,500):\n",
    "    num=str(i)\n",
    "    zero_fill_num=num.zfill(5)\n",
    "    with gzip.open('/ichec/work/mucom001c/GoogleSvrLog/clusterdata-2011-1/task_constraints/part-'+zero_fill_num+'-of-00500.csv.gz', 'rb') as f:\n",
    "        for line in f:\n",
    "            line=line.decode()\n",
    "            line=line.split(',')\n",
    "            t=line[3]\n",
    "            if t not in d:\n",
    "                d[t]=1\n",
    "            else:\n",
    "                d[t]+=1\n",
    "print(d) \n",
    "lists = sorted(d.items()) # sorted by key, return a list of tuples\n",
    "x, y = zip(*lists) # unpack a list of pairs into two tuples\n",
    "\n",
    "plt.bar(x, y)\n",
    "plt.xlabel('comparision_operator')\n",
    "plt.ylabel('Count')\n",
    "plt.title('Plot for Comparision_operator vs Count ')\n",
    "plt.show()"
   ]
  },
  {
   "cell_type": "markdown",
   "metadata": {},
   "source": [
    "## Analysis of the attribute_name column of the dataset"
   ]
  },
  {
   "cell_type": "code",
   "execution_count": 4,
   "metadata": {},
   "outputs": [
    {
     "name": "stdout",
     "output_type": "stream",
     "text": [
      "[(0, 20412140), (1, 1665117), (2, 13470), (3, 171), (4, 51), (5, 3149044), (6, 168), (7, 42688), (8, 52722), (9, 2856749), (10, 14473), (11, 71103), (12, 7336), (13, 30128), (14, 168656), (15, 346), (16, 1257)]\n"
     ]
    },
    {
     "data": {
      "image/png": "[encoded data removed]",
      "text/plain": [
       "<Figure size 432x288 with 1 Axes>"
      ]
     },
     "metadata": {
      "needs_background": "light"
     },
     "output_type": "display_data"
    }
   ],
   "source": [
    "import gzip\n",
    "d=dict()\n",
    "n=0\n",
    "lst=list()\n",
    "for i in range(0,500):\n",
    "    num=str(i)\n",
    "    zero_fill_num=num.zfill(5)\n",
    "    with gzip.open('/ichec/work/mucom001c/GoogleSvrLog/clusterdata-2011-1/task_constraints/part-'+zero_fill_num+'-of-00500.csv.gz', 'rb') as f:\n",
    "        for line in f:\n",
    "            line=line.decode()\n",
    "            line=line.split(',')\n",
    "            t=line[4]\n",
    "            if t not in d:\n",
    "                d[t]=1\n",
    "            else:\n",
    "                d[t]+=1\n",
    "for k,v in list(d.items()):\n",
    "    k=n\n",
    "    lst.append((k,v))\n",
    "    n+=1\n",
    "print(lst)\n",
    "x, y = zip(*lst) # unpack a list of pairs into two tuples\n",
    "plt.xlabel('Attribute_name as Unique Number')\n",
    "plt.ylabel('Count')\n",
    "plt.title('Plot for Attribute_Name as Unique Number vs Count ')\n",
    "plt.bar(x, y,color='red')\n",
    "plt.show()  \n",
    "    "
   ]
  },
  {
   "cell_type": "markdown",
   "metadata": {},
   "source": [
    "## Analysis of the attribute_value column of the dataset"
   ]
  },
  {
   "cell_type": "code",
   "execution_count": 16,
   "metadata": {},
   "outputs": [
    {
     "name": "stdout",
     "output_type": "stream",
     "text": [
      "5996\n"
     ]
    }
   ],
   "source": [
    "import gzip\n",
    "d=dict()\n",
    "count=0\n",
    "for i in range(0,500):\n",
    "    num=str(i)\n",
    "    zero_fill_num=num.zfill(5)\n",
    "    with gzip.open('/ichec/work/mucom001c/GoogleSvrLog/clusterdata-2011-1/task_constraints/part-'+zero_fill_num+'-of-00500.csv.gz', 'rb') as f:\n",
    "        for line in f:\n",
    "            line=line.decode()\n",
    "            line=line.split(',')\n",
    "            t=line[5]\n",
    "            if t not in d:\n",
    "                d[t]=1\n",
    "                count+=1\n",
    "            else:\n",
    "                d[t]+=1\n",
    "print(count)"
   ]
  },
  {
   "cell_type": "markdown",
   "metadata": {},
   "source": [
    "Total number of unique attribute value column in the dataset is 5996"
   ]
  }
 ],
 "metadata": {
  "kernelspec": {
   "display_name": "Python [conda env:.conda-myproj]",
   "language": "python",
   "name": "conda-env-.conda-myproj-py"
  },
  "language_info": {
   "codemirror_mode": {
    "name": "ipython",
    "version": 3
   },
   "file_extension": ".py",
   "mimetype": "text/x-python",
   "name": "python",
   "nbconvert_exporter": "python",
   "pygments_lexer": "ipython3",
   "version": "3.5.6"
  }
 },
 "nbformat": 4,
 "nbformat_minor": 4
}
